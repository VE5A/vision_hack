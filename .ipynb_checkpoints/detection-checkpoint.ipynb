{
 "cells": [
  {
   "cell_type": "code",
   "execution_count": 4,
   "metadata": {},
   "outputs": [
    {
     "ename": "ModuleNotFoundError",
     "evalue": "No module named 'torch'",
     "output_type": "error",
     "traceback": [
      "\u001b[1;31m---------------------------------------------------------------------------\u001b[0m",
      "\u001b[1;31mModuleNotFoundError\u001b[0m                       Traceback (most recent call last)",
      "\u001b[1;32m<ipython-input-4-a003f0775759>\u001b[0m in \u001b[0;36m<module>\u001b[1;34m()\u001b[0m\n\u001b[0;32m      1\u001b[0m \u001b[1;32mimport\u001b[0m \u001b[0mpandas\u001b[0m \u001b[1;32mas\u001b[0m \u001b[0mpd\u001b[0m\u001b[1;33m\u001b[0m\u001b[0m\n\u001b[1;32m----> 2\u001b[1;33m \u001b[1;32mfrom\u001b[0m \u001b[0mdarknet\u001b[0m \u001b[1;32mimport\u001b[0m \u001b[0mDarknet\u001b[0m\u001b[1;33m\u001b[0m\u001b[0m\n\u001b[0m\u001b[0;32m      3\u001b[0m \u001b[1;32mfrom\u001b[0m \u001b[0mutils\u001b[0m \u001b[1;32mimport\u001b[0m \u001b[0mImage\u001b[0m\u001b[1;33m,\u001b[0m \u001b[0mdo_detect\u001b[0m\u001b[1;33m,\u001b[0m \u001b[0mload_class_names\u001b[0m\u001b[1;33m,\u001b[0m \u001b[0mplot_boxes\u001b[0m\u001b[1;33m\u001b[0m\u001b[0m\n\u001b[0;32m      4\u001b[0m \u001b[1;32mimport\u001b[0m \u001b[0mcv2\u001b[0m\u001b[1;33m\u001b[0m\u001b[0m\n\u001b[0;32m      5\u001b[0m \u001b[1;32mimport\u001b[0m \u001b[0mnumpy\u001b[0m \u001b[1;32mas\u001b[0m \u001b[0mnp\u001b[0m\u001b[1;33m\u001b[0m\u001b[0m\n",
      "\u001b[1;32mD:\\StudyIP\\VisionHack\\vision_hack\\darknet.py\u001b[0m in \u001b[0;36m<module>\u001b[1;34m()\u001b[0m\n\u001b[1;32m----> 1\u001b[1;33m \u001b[1;32mimport\u001b[0m \u001b[0mtorch\u001b[0m\u001b[1;33m\u001b[0m\u001b[0m\n\u001b[0m\u001b[0;32m      2\u001b[0m \u001b[1;32mimport\u001b[0m \u001b[0mtorch\u001b[0m\u001b[1;33m.\u001b[0m\u001b[0mnn\u001b[0m \u001b[1;32mas\u001b[0m \u001b[0mnn\u001b[0m\u001b[1;33m\u001b[0m\u001b[0m\n\u001b[0;32m      3\u001b[0m \u001b[1;32mimport\u001b[0m \u001b[0mtorch\u001b[0m\u001b[1;33m.\u001b[0m\u001b[0mnn\u001b[0m\u001b[1;33m.\u001b[0m\u001b[0mfunctional\u001b[0m \u001b[1;32mas\u001b[0m \u001b[0mF\u001b[0m\u001b[1;33m\u001b[0m\u001b[0m\n\u001b[0;32m      4\u001b[0m \u001b[1;32mimport\u001b[0m \u001b[0mnumpy\u001b[0m \u001b[1;32mas\u001b[0m \u001b[0mnp\u001b[0m\u001b[1;33m\u001b[0m\u001b[0m\n\u001b[0;32m      5\u001b[0m \u001b[1;32mfrom\u001b[0m \u001b[0mregion_loss\u001b[0m \u001b[1;32mimport\u001b[0m \u001b[0mRegionLoss\u001b[0m\u001b[1;33m\u001b[0m\u001b[0m\n",
      "\u001b[1;31mModuleNotFoundError\u001b[0m: No module named 'torch'"
     ]
    }
   ],
   "source": [
    "import pandas as pd\n",
    "from darknet import Darknet\n",
    "from utils import Image, do_detect, load_class_names, plot_boxes\n",
    "import cv2\n",
    "import numpy as np"
   ]
  },
  {
   "cell_type": "code",
   "execution_count": 2,
   "metadata": {
    "collapsed": true
   },
   "outputs": [],
   "source": [
    "cfgfile = 'cfg/yolo.cfg'\n",
    "weightfile = 'yolo.weights'\n",
    "imgfile = 'traffic_light.png'\n",
    "width = 1920\n",
    "height = 1080"
   ]
  },
  {
   "cell_type": "code",
   "execution_count": 3,
   "metadata": {},
   "outputs": [
    {
     "name": "stderr",
     "output_type": "stream",
     "text": [
      "/Users/anton/Documents/GitHub/vision_hack/cfg.py:175: UserWarning: src is not broadcastable to dst, but they have the same number of elements.  Falling back to deprecated pointwise behavior.\n",
      "  conv_model.weight.data.copy_(torch.from_numpy(buf[start:start+num_w])); start = start + num_w\n",
      "/Users/anton/Documents/GitHub/vision_hack/cfg.py:157: UserWarning: src is not broadcastable to dst, but they have the same number of elements.  Falling back to deprecated pointwise behavior.\n",
      "  conv_model.weight.data.copy_(torch.from_numpy(buf[start:start+num_w])); start = start + num_w\n"
     ]
    }
   ],
   "source": [
    "m = Darknet(cfgfile)\n",
    "m.load_weights(weightfile)\n",
    "# m.print_network()"
   ]
  },
  {
   "cell_type": "code",
   "execution_count": 4,
   "metadata": {},
   "outputs": [],
   "source": [
    "if m.num_classes == 20:\n",
    "    namesfile = 'data/voc.names'\n",
    "elif m.num_classes == 80:\n",
    "    namesfile = 'data/coco.names'\n",
    "else:\n",
    "    namesfile = 'data/names'"
   ]
  },
  {
   "cell_type": "code",
   "execution_count": 5,
   "metadata": {
    "collapsed": true
   },
   "outputs": [],
   "source": [
    "class_names = load_class_names(namesfile)\n",
    "traffic_light_index = class_names.index('traffic light')"
   ]
  },
  {
   "cell_type": "code",
   "execution_count": 23,
   "metadata": {
    "collapsed": true
   },
   "outputs": [],
   "source": [
    "def detect(frame):\n",
    "    img = Image.fromarray(frame).convert('RGB')\n",
    "    sized = img.resize((m.width, m.height))\n",
    "    boxes = do_detect(m, sized, 0.05, 0.4, 0)\n",
    "    traffic_light_boxes = [box for box in boxes if box[6] == traffic_light_index]\n",
    "    boxes_absolute = [{'x1' : tlb[0] * width,\n",
    "                      'y1' : tlb[1] * height,\n",
    "                      'x2' : x1 + tlb[2] * width,\n",
    "                      'y2' : y1 + tlb[3] * height} \n",
    "                     for tlb in traffic_light_boxes]\n",
    "    df = pd.DataFrame(boxes_absolute)\n",
    "    return plot_boxes(img, traffic_light_boxes, class_names=class_names), df"
   ]
  },
  {
   "cell_type": "code",
   "execution_count": 25,
   "metadata": {},
   "outputs": [
    {
     "name": "stdout",
     "output_type": "stream",
     "text": [
      "Handled frame: 24\n",
      "Handled frame: 48\n",
      "Handled frame: 72\n",
      "Handled frame: 96\n",
      "Handled frame: 120\n",
      "Handled frame: 144\n",
      "Handled frame: 168\n",
      "Handled frame: 192\n",
      "Handled frame: 216\n",
      "Handled frame: 240\n",
      "Handled frame: 264\n",
      "Handled frame: 288\n",
      "Releasing handles\n"
     ]
    }
   ],
   "source": [
    "file_path = 'akn.036.020.left.avi'\n",
    "file_out = './akn.036.020.left.segmented.avi'\n",
    "file_out_csv = './akn.036.020.left.csv'\n",
    "\n",
    "video = cv2.VideoCapture(file_path)\n",
    "fps = int(video.get(cv2.CAP_PROP_FPS))\n",
    "fourcc = cv2.VideoWriter_fourcc(*'H264')\n",
    "\n",
    "out_video = cv2.VideoWriter(file_out, fourcc, fps=fps, frameSize=(1920, 1080))\n",
    "\n",
    "if not (video.isOpened() and video.get(cv2.CAP_PROP_FRAME_COUNT) > 1):\n",
    "    print('no video')\n",
    "\n",
    "# length = int(video.get(cv2.CAP_PROP_FRAME_COUNT))\n",
    "# print(length)\n",
    "# video.set(cv2.CAP_PROP_POS_FRAMES, 0)\n",
    "\n",
    "frames_count = video.get(cv2.CAP_PROP_FRAME_COUNT)\n",
    "current_frame = 0\n",
    "boxes_dataframes = list()\n",
    "while video.isOpened() and current_frame < frames_count:\n",
    "    ret, frame = video.read()\n",
    "    if ret:\n",
    "        frame = cv2.cvtColor(frame, cv2.COLOR_BGR2RGB)\n",
    "        plot, boxes_df = detect(frame)\n",
    "        boxes_df['frame'] = current_frame\n",
    "        boxes_dataframes.append(boxes)\n",
    "        pred_frame = np.array(plot)\n",
    "        pred_frame = cv2.cvtColor(pred_frame, cv2.COLOR_RGB2BGR)\n",
    "        out_video.write(pred_frame)\n",
    "        if current_frame % 24 == 0:\n",
    "            print('Handled frame:', current_frame)\n",
    "    current_frame += 1\n",
    "    # else:\n",
    "    #     print('error')\n",
    "pd.concat(boxes_dataframes).to_csv(file_out_csv)\n",
    "print('Releasing handles')\n",
    "video.release()\n",
    "out_video.release()"
   ]
  },
  {
   "cell_type": "code",
   "execution_count": 16,
   "metadata": {
    "collapsed": true
   },
   "outputs": [
    {
     "name": "stdout",
     "output_type": "stream",
     "text": [
      "['__class__', '__delattr__', '__dir__', '__doc__', '__eq__', '__format__', '__ge__', '__getattribute__', '__gt__', '__hash__', '__init__', '__init_subclass__', '__le__', '__lt__', '__ne__', '__new__', '__reduce__', '__reduce_ex__', '__repr__', '__setattr__', '__sizeof__', '__str__', '__subclasshook__', 'get', 'isOpened', 'open', 'release', 'set', 'write']\n"
     ]
    }
   ],
   "source": [
    "print(dir(out_video))"
   ]
  },
  {
   "cell_type": "code",
   "execution_count": 18,
   "metadata": {},
   "outputs": [
    {
     "ename": "TypeError",
     "evalue": "Required argument 'propId' (pos 1) not found",
     "output_type": "error",
     "traceback": [
      "\u001b[0;31m---------------------------------------------------------------------------\u001b[0m",
      "\u001b[0;31mTypeError\u001b[0m                                 Traceback (most recent call last)",
      "\u001b[0;32m<ipython-input-18-682b7c54418d>\u001b[0m in \u001b[0;36m<module>\u001b[0;34m()\u001b[0m\n\u001b[0;32m----> 1\u001b[0;31m \u001b[0mout_video\u001b[0m\u001b[0;34m.\u001b[0m\u001b[0mget\u001b[0m\u001b[0;34m(\u001b[0m\u001b[0;34m)\u001b[0m\u001b[0;34m\u001b[0m\u001b[0m\n\u001b[0m",
      "\u001b[0;31mTypeError\u001b[0m: Required argument 'propId' (pos 1) not found"
     ]
    }
   ],
   "source": [
    "out_video.get()"
   ]
  },
  {
   "cell_type": "code",
   "execution_count": 1,
   "metadata": {},
   "outputs": [
    {
     "ename": "NameError",
     "evalue": "name 'traffic_light_index' is not defined",
     "output_type": "error",
     "traceback": [
      "\u001b[1;31m---------------------------------------------------------------------------\u001b[0m",
      "\u001b[1;31mNameError\u001b[0m                                 Traceback (most recent call last)",
      "\u001b[1;32m<ipython-input-1-1ec6acab95a0>\u001b[0m in \u001b[0;36m<module>\u001b[1;34m()\u001b[0m\n\u001b[1;32m----> 1\u001b[1;33m \u001b[0mtraffic_light_index\u001b[0m\u001b[1;33m\u001b[0m\u001b[0m\n\u001b[0m",
      "\u001b[1;31mNameError\u001b[0m: name 'traffic_light_index' is not defined"
     ]
    }
   ],
   "source": [
    "traffic_light_index"
   ]
  },
  {
   "cell_type": "code",
   "execution_count": null,
   "metadata": {
    "collapsed": true
   },
   "outputs": [],
   "source": []
  }
 ],
 "metadata": {
  "kernelspec": {
   "display_name": "Python 3",
   "language": "python",
   "name": "python3"
  },
  "language_info": {
   "codemirror_mode": {
    "name": "ipython",
    "version": 3
   },
   "file_extension": ".py",
   "mimetype": "text/x-python",
   "name": "python",
   "nbconvert_exporter": "python",
   "pygments_lexer": "ipython3",
   "version": "3.6.1"
  }
 },
 "nbformat": 4,
 "nbformat_minor": 1
}
