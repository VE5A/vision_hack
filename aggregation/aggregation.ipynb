{
 "cells": [
  {
   "cell_type": "code",
   "execution_count": 154,
   "metadata": {
    "collapsed": true
   },
   "outputs": [],
   "source": [
    "import cv2\n",
    "import pandas as pd\n",
    "import numpy as np"
   ]
  },
  {
   "cell_type": "code",
   "execution_count": 161,
   "metadata": {},
   "outputs": [],
   "source": [
    "def non_max_suppression_fast(boxes, overlapThresh):\n",
    "    # if there are no boxes, return an empty list\n",
    "    if len(boxes) == 0:\n",
    "        return []\n",
    "\n",
    "   # if the bounding boxes integers, convert them to floats --\n",
    "   # this is important since we'll be doing a bunch of divisions\n",
    "    if boxes.dtype.kind == \"i\":\n",
    "        boxes = boxes.astype(\"float\")\n",
    "#  \n",
    "   # initialize the list of picked indexes   \n",
    "    pick = []\n",
    "\n",
    "   # grab the coordinates of the bounding boxes\n",
    "    x1 = boxes[:,0]\n",
    "    x2 = boxes[:,1]\n",
    "    y1 = boxes[:,2]\n",
    "    y2 = boxes[:,3]\n",
    "   # compute the area of  bounding boxes and sort the bounding\n",
    "   # boxes by the bottom-right y-coordinate of the bounding box\n",
    "    area = (x2 - x1 + 1) * (y2 - y1 + 1)\n",
    "    idxs = np.argsort(y2)\n",
    "\n",
    "   # keep looping while some indexes still remain in the indexes\n",
    "   # list\n",
    "    while len(idxs) > 0:\n",
    "        # grab the last index in the indexes list and add the\n",
    "          # index value to the list of picked indexes\n",
    "        last = len(idxs) - 1\n",
    "        i = idxs[last]\n",
    "        pick.append(i)\n",
    "    \n",
    "          # find the largest (x, y) coordinates for the start of\n",
    "          # the bounding box and the smallest (x, y) coordinates\n",
    "          # for the end of the bounding box\n",
    "        xx1 = np.maximum(x1[i], x1[idxs[:last]])\n",
    "        yy1 = np.maximum(y1[i], y1[idxs[:last]])\n",
    "        xx2 = np.minimum(x2[i], x2[idxs[:last]])\n",
    "        yy2 = np.minimum(y2[i], y2[idxs[:last]])\n",
    "    \n",
    "          # compute the width and height of the bounding box\n",
    "        w = np.maximum(0, xx2 - xx1 + 1)\n",
    "        h = np.maximum(0, yy2 - yy1 + 1)\n",
    "    \n",
    "          # compute the ratio of overlap\n",
    "        overlap = (w * h) / area[idxs[:last]]\n",
    "    \n",
    "          # delete all indexes from the index list that have\n",
    "        idxs = np.delete(idxs, np.concatenate(([last],\n",
    "            np.where(overlap > overlapThresh)[0])))\n",
    "\n",
    "   # return only the bounding boxes that were picked using the\n",
    "   # integer data type\n",
    "    return boxes[pick].astype(\"int\")"
   ]
  },
  {
   "cell_type": "code",
   "execution_count": 162,
   "metadata": {},
   "outputs": [],
   "source": [
    "boxes = pd.read_csv('./akn.036.020.left.csv')"
   ]
  },
  {
   "cell_type": "code",
   "execution_count": 163,
   "metadata": {},
   "outputs": [],
   "source": [
    "rects = np.round(np.asarray(boxes).astype(np.int))[:,1:5]"
   ]
  },
  {
   "cell_type": "code",
   "execution_count": 168,
   "metadata": {},
   "outputs": [],
   "source": [
    "new = non_max_suppression_fast(rects, 0)"
   ]
  },
  {
   "cell_type": "code",
   "execution_count": 169,
   "metadata": {
    "collapsed": true
   },
   "outputs": [],
   "source": [
    "vid = cv2.VideoCapture('./akn.036.020.left.segmented.avi')\n",
    "ret, frame = vid.read()\n",
    "for rect in rects:\n",
    "    frame = cv2.rectangle(frame, (rect[0], rect[2]), (rect[1], rect[3]), (0,255,0))\n",
    "for rect in new:\n",
    "    frame = cv2.rectangle(frame, (rect[0], rect[2]), (rect[1], rect[3]), (250,0,0),3)\n",
    "cv2.imwrite('0.jpg', frame)\n",
    "vid.release()"
   ]
  },
  {
   "cell_type": "code",
   "execution_count": null,
   "metadata": {
    "collapsed": true
   },
   "outputs": [],
   "source": []
  }
 ],
 "metadata": {
  "kernelspec": {
   "display_name": "Python 3",
   "language": "python",
   "name": "python3"
  },
  "language_info": {
   "codemirror_mode": {
    "name": "ipython",
    "version": 3
   },
   "file_extension": ".py",
   "mimetype": "text/x-python",
   "name": "python",
   "nbconvert_exporter": "python",
   "pygments_lexer": "ipython3",
   "version": "3.6.1"
  }
 },
 "nbformat": 4,
 "nbformat_minor": 2
}
