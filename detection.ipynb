{
 "cells": [
  {
   "cell_type": "code",
   "execution_count": 11,
   "metadata": {
    "collapsed": false
   },
   "outputs": [],
   "source": [
    "from darknet import Darknet\n",
    "from utils import Image, do_detect, load_class_names, plot_boxes\n",
    "import cv2\n",
    "import numpy as np"
   ]
  },
  {
   "cell_type": "code",
   "execution_count": 2,
   "metadata": {},
   "outputs": [],
   "source": [
    "cfgfile = 'cfg/yolo.cfg'\n",
    "weightfile = 'yolo.weights'\n",
    "imgfile = 'traffic_light.png'"
   ]
  },
  {
   "cell_type": "code",
   "execution_count": 3,
   "metadata": {},
   "outputs": [
    {
     "name": "stderr",
     "output_type": "stream",
     "text": [
      "/Users/anton/Documents/GitHub/vision_hack/cfg.py:175: UserWarning: src is not broadcastable to dst, but they have the same number of elements.  Falling back to deprecated pointwise behavior.\n  conv_model.weight.data.copy_(torch.from_numpy(buf[start:start+num_w])); start = start + num_w\n/Users/anton/Documents/GitHub/vision_hack/cfg.py:157: UserWarning: src is not broadcastable to dst, but they have the same number of elements.  Falling back to deprecated pointwise behavior.\n  conv_model.weight.data.copy_(torch.from_numpy(buf[start:start+num_w])); start = start + num_w\n"
     ]
    }
   ],
   "source": [
    "m = Darknet(cfgfile)\n",
    "m.load_weights(weightfile)\n",
    "# m.print_network()"
   ]
  },
  {
   "cell_type": "code",
   "execution_count": 4,
   "metadata": {
    "collapsed": false
   },
   "outputs": [],
   "source": [
    "if m.num_classes == 20:\n",
    "    namesfile = 'data/voc.names'\n",
    "elif m.num_classes == 80:\n",
    "    namesfile = 'data/coco.names'\n",
    "else:\n",
    "    namesfile = 'data/names'"
   ]
  },
  {
   "cell_type": "code",
   "execution_count": 5,
   "metadata": {},
   "outputs": [],
   "source": [
    "class_names = load_class_names(namesfile)\n",
    "traffic_light_index = class_names.index('traffic light')"
   ]
  },
  {
   "cell_type": "code",
   "execution_count": 23,
   "metadata": {},
   "outputs": [],
   "source": [
    "def detect(frame):\n",
    "    img = Image.fromarray(frame).convert('RGB')\n",
    "    sized = img.resize((m.width, m.height))\n",
    "    boxes = do_detect(m, sized, 0.05, 0.4, 0)\n",
    "    traffic_light_boxes = [box for box in boxes if box[6] == traffic_light_index]\n",
    "    return plot_boxes(img, traffic_light_boxes, class_names=class_names)"
   ]
  },
  {
   "cell_type": "code",
   "execution_count": 25,
   "metadata": {
    "collapsed": true
   },
   "outputs": [
    {
     "name": "stdout",
     "output_type": "stream",
     "text": [
      "Handled frame: 24\n"
     ]
    },
    {
     "name": "stdout",
     "output_type": "stream",
     "text": [
      "Handled frame: 48\n"
     ]
    },
    {
     "name": "stdout",
     "output_type": "stream",
     "text": [
      "Handled frame: 72\n"
     ]
    },
    {
     "name": "stdout",
     "output_type": "stream",
     "text": [
      "Handled frame: 96\n"
     ]
    },
    {
     "name": "stdout",
     "output_type": "stream",
     "text": [
      "Handled frame: 120\n"
     ]
    },
    {
     "name": "stdout",
     "output_type": "stream",
     "text": [
      "Handled frame: 144\n"
     ]
    },
    {
     "name": "stdout",
     "output_type": "stream",
     "text": [
      "Handled frame: 168\n"
     ]
    },
    {
     "name": "stdout",
     "output_type": "stream",
     "text": [
      "Handled frame: 192\n"
     ]
    },
    {
     "name": "stdout",
     "output_type": "stream",
     "text": [
      "Handled frame: 216\n"
     ]
    },
    {
     "name": "stdout",
     "output_type": "stream",
     "text": [
      "Handled frame: 240\n"
     ]
    },
    {
     "name": "stdout",
     "output_type": "stream",
     "text": [
      "Handled frame: 264\n"
     ]
    },
    {
     "name": "stdout",
     "output_type": "stream",
     "text": [
      "Handled frame: 288\n"
     ]
    },
    {
     "name": "stdout",
     "output_type": "stream",
     "text": [
      "Releasing handles\n"
     ]
    }
   ],
   "source": [
    "file_path = 'akn.036.020.left.avi'\n",
    "file_out = './akn.036.020.left.segmented.avi'\n",
    "\n",
    "video = cv2.VideoCapture(file_path)\n",
    "fps = int(video.get(cv2.CAP_PROP_FPS))\n",
    "fourcc = cv2.VideoWriter_fourcc(*'H264')\n",
    "\n",
    "out_video = cv2.VideoWriter(file_out, fourcc, fps=fps, frameSize=(1920, 1080))\n",
    "\n",
    "if not (video.isOpened() and video.get(cv2.CAP_PROP_FRAME_COUNT) > 1):\n",
    "    print('no video')\n",
    "\n",
    "# length = int(video.get(cv2.CAP_PROP_FRAME_COUNT))\n",
    "# print(length)\n",
    "# video.set(cv2.CAP_PROP_POS_FRAMES, 0)\n",
    "\n",
    "frames_count = video.get(cv2.CAP_PROP_FRAME_COUNT)\n",
    "current_frame = 0\n",
    "while video.isOpened() and current_frame < frames_count:\n",
    "    current_frame += 1\n",
    "    ret, frame = video.read()\n",
    "    if ret:\n",
    "        frame = cv2.cvtColor(frame, cv2.COLOR_BGR2RGB)\n",
    "        pred_frame = np.array(detect(frame))\n",
    "        pred_frame = cv2.cvtColor(pred_frame, cv2.COLOR_RGB2BGR)\n",
    "        out_video.write(pred_frame)\n",
    "        if current_frame % 24 == 0:\n",
    "            print('Handled frame:', current_frame)\n",
    "    # else:\n",
    "    #     print('error')\n",
    "\n",
    "print('Releasing handles')\n",
    "video.release()\n",
    "out_video.release()"
   ]
  },
  {
   "cell_type": "code",
   "execution_count": 16,
   "metadata": {
    "collapsed": true
   },
   "outputs": [
    {
     "name": "stdout",
     "output_type": "stream",
     "text": [
      "['__class__', '__delattr__', '__dir__', '__doc__', '__eq__', '__format__', '__ge__', '__getattribute__', '__gt__', '__hash__', '__init__', '__init_subclass__', '__le__', '__lt__', '__ne__', '__new__', '__reduce__', '__reduce_ex__', '__repr__', '__setattr__', '__sizeof__', '__str__', '__subclasshook__', 'get', 'isOpened', 'open', 'release', 'set', 'write']\n"
     ]
    }
   ],
   "source": [
    "print(dir(out_video))"
   ]
  },
  {
   "cell_type": "code",
   "execution_count": 18,
   "metadata": {},
   "outputs": [
    {
     "ename": "TypeError",
     "evalue": "Required argument 'propId' (pos 1) not found",
     "traceback": [
      "\u001b[0;31m---------------------------------------------------------------------------\u001b[0m",
      "\u001b[0;31mTypeError\u001b[0m                                 Traceback (most recent call last)",
      "\u001b[0;32m<ipython-input-18-682b7c54418d>\u001b[0m in \u001b[0;36m<module>\u001b[0;34m()\u001b[0m\n\u001b[0;32m----> 1\u001b[0;31m \u001b[0mout_video\u001b[0m\u001b[0;34m.\u001b[0m\u001b[0mget\u001b[0m\u001b[0;34m(\u001b[0m\u001b[0;34m)\u001b[0m\u001b[0;34m\u001b[0m\u001b[0m\n\u001b[0m",
      "\u001b[0;31mTypeError\u001b[0m: Required argument 'propId' (pos 1) not found"
     ],
     "output_type": "error"
    }
   ],
   "source": [
    "out_video.get()"
   ]
  },
  {
   "cell_type": "code",
   "execution_count": null,
   "metadata": {},
   "outputs": [],
   "source": []
  }
 ],
 "metadata": {
  "kernelspec": {
   "display_name": "Python 2",
   "language": "python",
   "name": "python2"
  },
  "language_info": {
   "codemirror_mode": {
    "name": "ipython",
    "version": 2
   },
   "file_extension": ".py",
   "mimetype": "text/x-python",
   "name": "python",
   "nbconvert_exporter": "python",
   "pygments_lexer": "ipython2",
   "version": "2.7.6"
  }
 },
 "nbformat": 4,
 "nbformat_minor": 0
}
